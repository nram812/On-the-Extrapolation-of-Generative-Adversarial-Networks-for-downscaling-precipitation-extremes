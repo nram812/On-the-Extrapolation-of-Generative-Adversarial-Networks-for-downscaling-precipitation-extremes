{
 "cells": [
  {
   "cell_type": "code",
   "execution_count": 2,
   "metadata": {},
   "outputs": [
    {
     "name": "stderr",
     "output_type": "stream",
     "text": [
      "2024-09-12 21:32:48.926906: I tensorflow/stream_executor/platform/default/dso_loader.cc:53] Successfully opened dynamic library libcudart.so.11.0\n"
     ]
    }
   ],
   "source": [
    "import xarray as xr\n",
    "import xarray as xr\n",
    "import sys\n",
    "import matplotlib.pyplot as plt\n",
    "import os\n",
    "import tqdm\n",
    "from tqdm import tqdm\n",
    "import tqdm\n",
    "import numpy as np\n",
    "from functools import partial\n",
    "import json\n",
    "# changed activation function to hyperbolic tangent\n",
    "import tensorflow as tf\n",
    "from tensorflow.keras import layers\n",
    "AUTOTUNE = tf.data.experimental.AUTOTUNE\n",
    "from dask.diagnostics import ProgressBar\n",
    "import pandas as pd\n",
    "import sys\n"
   ]
  },
  {
   "cell_type": "code",
   "execution_count": null,
   "metadata": {},
   "outputs": [],
   "source": [
    "# Please make sure that this path is the directory of the repository\n",
    "# or os.chdir(/path/of/repository)\n",
    "sys.path.append(os.getcwd())\n",
    "from src.layers import *\n",
    "from src.models import *\n",
    "from src.gan import *\n",
    "from src.src_eval_inference import *"
   ]
  },
  {
   "cell_type": "code",
   "execution_count": null,
   "metadata": {},
   "outputs": [],
   "source": [
    "config_file = r'./experiment_configs/Hist_vs_future_runs/historical.json'\n",
    "# the netcdf used to create ground truth precipitation quantiles and climate change signal\n",
    "# is the same in every netcdf - FYI, so this path can be fixed"
   ]
  },
  {
   "cell_type": "code",
   "execution_count": null,
   "metadata": {},
   "outputs": [],
   "source": [
    "with open(config_file) as f:\n",
    "    config = json.load(f)\n",
    "# the quantiles of which the climate change signal is computed over\n",
    "quantiles = [ 0.5 , 0.7, 0.9, 0.925,\n",
    "             0.95, 0.975, 0.98, 0.99,\n",
    "             0.995, 0.998, 0.999, 0.9999]\n",
    "# the periods of which the climate change signal / response is computed over\n",
    "historical_period = slice(\"1985\",\"2014\")\n",
    "future_period = slice(\"2070\",\"2099\")"
   ]
  },
  {
   "cell_type": "code",
   "execution_count": null,
   "metadata": {},
   "outputs": [],
   "source": [
    "\n",
    "def compute_quantiles(df,quantiles, period):\n",
    "    df = df.sel(time = period)\n",
    "    df = df.where(df>0.0, 0.0)\n",
    "    seasonal_rainfall = df.groupby('time.season').mean()\n",
    "    df = df.where(df>1, np.nan)\n",
    "    quantiled_rain = df.quantile(q = quantiles, dim =[\"time\"], skipna =True)\n",
    "    return quantiled_rain, seasonal_rainfall\n",
    "\n",
    "\n",
    "def compute_signal(df, quantiles, historical_period, future_period):\n",
    "\n",
    "    historical_quantiles, seasonal_rainfall = compute_quantiles(df, quantiles, historical_period)\n",
    "    future_quantiles, future_rainfall = compute_quantiles(df, quantiles, future_period)\n",
    "\n",
    "    cc_signal = 100 * (future_rainfall - seasonal_rainfall)/seasonal_rainfall\n",
    "    signal = 100 * (future_quantiles - historical_quantiles)/historical_quantiles\n",
    "    historical_quantiles = historical_quantiles.rename({\"pr\":\"hist_quantiles\"})\n",
    "    future_quantiles = future_quantiles.rename({\"pr\": \"future_quantiles\"})\n",
    "    seasonal_rainfall = seasonal_rainfall.rename({\"pr\":\"hist_clim_rainfall\"})\n",
    "    future_rainfall = future_rainfall.rename({\"pr\":\"future_clim_rainfall\"})\n",
    "    signal = signal.rename({\"pr\":\"cc_signal\"})\n",
    "    cc_signal = cc_signal.rename({\"pr\":\"seas_cc_signal\"})\n",
    "    dset = xr.merge([historical_quantiles, future_quantiles,\n",
    "                     signal, cc_signal, seasonal_rainfall, future_rainfall])\n",
    "    return dset\n"
   ]
  },
  {
   "cell_type": "markdown",
   "metadata": {},
   "source": [
    "### Please Modify the Config File to ensure that Paths are consistent with your version\n",
    "i.e. \n",
    "```python\n",
    "config[\"train_x\"] =\"/nesi/project/niwa00018/ML_downscaling_CCAM/multi-variate-gan/inputs/predictor_fields/predictor_fields_hist_ssp370_merged_updated.nc\"\n",
    "config[\"train_y\"] = \"/nesi/project/niwa00018/ML_downscaling_CCAM/multi-variate-gan/inputs/target_fields/target_fields_hist_ssp370_concat.nc\"\n",
    "```"
   ]
  },
  {
   "cell_type": "code",
   "execution_count": null,
   "metadata": {},
   "outputs": [],
   "source": [
    "df = xr.open_dataset(config[\"train_y\"])\n",
    "hist_period_output = df.sel(time =historical_period)[['pr']]\n",
    "future_period_output = df.sel(time =future_period)[['pr']]\n",
    "concat = xr.concat([hist_period_output, future_period_output], dim=\"time\")\n",
    "\n",
    "with ProgressBar():\n",
    "    outputs = compute_signal(concat[['pr']], quantiles, historical_period, future_period)\n"
   ]
  },
  {
   "cell_type": "code",
   "execution_count": null,
   "metadata": {},
   "outputs": [],
   "source": [
    "# save the outputs for visualization\n",
    "outputs.to_netcdf(r'./outputs/gt_cc_signal_final_v2_geq1mm.nc')"
   ]
  }
 ],
 "metadata": {
  "kernelspec": {
   "display_name": "My_env-V2",
   "language": "python",
   "name": "nellys_env"
  },
  "language_info": {
   "codemirror_mode": {
    "name": "ipython",
    "version": 3
   },
   "file_extension": ".py",
   "mimetype": "text/x-python",
   "name": "python",
   "nbconvert_exporter": "python",
   "pygments_lexer": "ipython3",
   "version": "3.8.15"
  }
 },
 "nbformat": 4,
 "nbformat_minor": 4
}
